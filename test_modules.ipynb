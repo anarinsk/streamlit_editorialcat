{
 "cells": [
  {
   "cell_type": "code",
   "execution_count": 1,
   "metadata": {},
   "outputs": [],
   "source": [
    "import streamlit as st\n",
    "import pandas as pd\n",
    "import numpy as np \n",
    "#import streamlit_authenticator as stauth\n",
    "\n",
    "import gspread\n",
    "from google.oauth2.service_account import Credentials\n",
    "import plotly.graph_objects as go\n",
    "import plotly.express as px"
   ]
  },
  {
   "cell_type": "code",
   "execution_count": 2,
   "metadata": {},
   "outputs": [],
   "source": [
    "%load_ext autoreload\n",
    "%autoreload 2\n",
    "\n",
    "import sys\n",
    "\n",
    "if '../functions' in sys.path: \n",
    "    pass \n",
    "else: \n",
    "    sys.path.append('../functions')\n",
    "\n",
    "#from functions_helpers import *\n",
    "from functions_instruments import *\n",
    "\n",
    "sys.path\n",
    "%pwd\n",
    "\n",
    "import ast\n",
    "with open('secrets.txt') as f: \n",
    "    secrets_raw = f.read()\n",
    "\n",
    "secrets = ast.literal_eval(secrets_raw)\n",
    "\n",
    "#secrets"
   ]
  },
  {
   "cell_type": "code",
   "execution_count": 9,
   "metadata": {},
   "outputs": [],
   "source": [
    "df_list = get_data_google_sheets([0,1], secrets)\n",
    "tdf = generate_record_raw(df_list[0])"
   ]
  },
  {
   "cell_type": "code",
   "execution_count": 5,
   "metadata": {},
   "outputs": [
    {
     "data": {
      "text/plain": [
       "Index(['발주처', '방영 채널', '작품명 / 시즌', 'Ep', 'RT', 'RTM', 'CPE', 'CPER', '환율',\n",
       "       '영상 종류', '작업 종류', '마감일', '대금 수령일', '단가', '번역료', '수령액', '비고',\n",
       "       'new_unit_price'],\n",
       "      dtype='object', name=0)"
      ]
     },
     "execution_count": 5,
     "metadata": {},
     "output_type": "execute_result"
    }
   ],
   "source": [
    "tdf.columns"
   ]
  },
  {
   "cell_type": "markdown",
   "metadata": {},
   "source": [
    "tdf.columns"
   ]
  },
  {
   "cell_type": "markdown",
   "metadata": {},
   "source": [
    "## Formula for new RTM\n",
    "\n",
    "$RT \\times RTM + CPE \\times CPER = RTM2 \\times RT$\n",
    "\n",
    "$RTM2 = RMT + \\dfrac{CPE \\times CPER}{RT}$"
   ]
  },
  {
   "cell_type": "code",
   "execution_count": 23,
   "metadata": {},
   "outputs": [
    {
     "data": {
      "text/html": [
       "<div>\n",
       "<style scoped>\n",
       "    .dataframe tbody tr th:only-of-type {\n",
       "        vertical-align: middle;\n",
       "    }\n",
       "\n",
       "    .dataframe tbody tr th {\n",
       "        vertical-align: top;\n",
       "    }\n",
       "\n",
       "    .dataframe thead th {\n",
       "        text-align: right;\n",
       "    }\n",
       "</style>\n",
       "<table border=\"1\" class=\"dataframe\">\n",
       "  <thead>\n",
       "    <tr style=\"text-align: right;\">\n",
       "      <th></th>\n",
       "      <th>발주처</th>\n",
       "      <th>방영 채널</th>\n",
       "      <th>단가 평균</th>\n",
       "      <th>번역료</th>\n",
       "      <th>수령액</th>\n",
       "      <th>총수령액</th>\n",
       "    </tr>\n",
       "  </thead>\n",
       "  <tbody>\n",
       "    <tr>\n",
       "      <th>0</th>\n",
       "      <td>WhatSub</td>\n",
       "      <td>Disney+</td>\n",
       "      <td>3161.133603</td>\n",
       "      <td>32271300.0</td>\n",
       "      <td>31206366.0</td>\n",
       "      <td>50490430.0</td>\n",
       "    </tr>\n",
       "    <tr>\n",
       "      <th>7</th>\n",
       "      <td>WhatSub</td>\n",
       "      <td>Coupang</td>\n",
       "      <td>2192.857143</td>\n",
       "      <td>2337700.0</td>\n",
       "      <td>2260555.0</td>\n",
       "      <td>50490430.0</td>\n",
       "    </tr>\n",
       "    <tr>\n",
       "      <th>26</th>\n",
       "      <td>WhatSub</td>\n",
       "      <td>?</td>\n",
       "      <td>6000.000000</td>\n",
       "      <td>54000.0</td>\n",
       "      <td>52218.0</td>\n",
       "      <td>50490430.0</td>\n",
       "    </tr>\n",
       "    <tr>\n",
       "      <th>24</th>\n",
       "      <td>WhatSub</td>\n",
       "      <td>AXA</td>\n",
       "      <td>5000.000000</td>\n",
       "      <td>165000.0</td>\n",
       "      <td>159555.0</td>\n",
       "      <td>50490430.0</td>\n",
       "    </tr>\n",
       "    <tr>\n",
       "      <th>18</th>\n",
       "      <td>WhatSub</td>\n",
       "      <td>Wow Tech</td>\n",
       "      <td>4500.000000</td>\n",
       "      <td>279000.0</td>\n",
       "      <td>269794.0</td>\n",
       "      <td>50490430.0</td>\n",
       "    </tr>\n",
       "    <tr>\n",
       "      <th>16</th>\n",
       "      <td>WhatSub</td>\n",
       "      <td>NBCUniversal</td>\n",
       "      <td>1950.000000</td>\n",
       "      <td>469150.0</td>\n",
       "      <td>453668.0</td>\n",
       "      <td>50490430.0</td>\n",
       "    </tr>\n",
       "    <tr>\n",
       "      <th>12</th>\n",
       "      <td>WhatSub</td>\n",
       "      <td>Facebook</td>\n",
       "      <td>5000.000000</td>\n",
       "      <td>780000.0</td>\n",
       "      <td>754260.0</td>\n",
       "      <td>50490430.0</td>\n",
       "    </tr>\n",
       "    <tr>\n",
       "      <th>15</th>\n",
       "      <td>WhatSub</td>\n",
       "      <td>ESPN</td>\n",
       "      <td>5000.000000</td>\n",
       "      <td>510000.0</td>\n",
       "      <td>493170.0</td>\n",
       "      <td>50490430.0</td>\n",
       "    </tr>\n",
       "    <tr>\n",
       "      <th>29</th>\n",
       "      <td>WhatSub</td>\n",
       "      <td>Paramount</td>\n",
       "      <td>4500.000000</td>\n",
       "      <td>13500.0</td>\n",
       "      <td>13055.0</td>\n",
       "      <td>50490430.0</td>\n",
       "    </tr>\n",
       "    <tr>\n",
       "      <th>2</th>\n",
       "      <td>WhatSub</td>\n",
       "      <td>Netflix</td>\n",
       "      <td>3783.333333</td>\n",
       "      <td>6864800.0</td>\n",
       "      <td>6638265.0</td>\n",
       "      <td>50490430.0</td>\n",
       "    </tr>\n",
       "    <tr>\n",
       "      <th>3</th>\n",
       "      <td>WhatSub</td>\n",
       "      <td>Watcha</td>\n",
       "      <td>4700.000000</td>\n",
       "      <td>5696500.0</td>\n",
       "      <td>5508517.0</td>\n",
       "      <td>50490430.0</td>\n",
       "    </tr>\n",
       "    <tr>\n",
       "      <th>6</th>\n",
       "      <td>WhatSub</td>\n",
       "      <td>Naver</td>\n",
       "      <td>2900.000000</td>\n",
       "      <td>2772500.0</td>\n",
       "      <td>2681007.0</td>\n",
       "      <td>50490430.0</td>\n",
       "    </tr>\n",
       "    <tr>\n",
       "      <th>1</th>\n",
       "      <td>Gloz</td>\n",
       "      <td>Netflix</td>\n",
       "      <td>8983.572481</td>\n",
       "      <td>17529250.0</td>\n",
       "      <td>16950785.0</td>\n",
       "      <td>16950785.0</td>\n",
       "    </tr>\n",
       "    <tr>\n",
       "      <th>4</th>\n",
       "      <td>IYUNO</td>\n",
       "      <td>Coupang</td>\n",
       "      <td>3900.000000</td>\n",
       "      <td>3380600.0</td>\n",
       "      <td>3269038.0</td>\n",
       "      <td>10091998.0</td>\n",
       "    </tr>\n",
       "    <tr>\n",
       "      <th>5</th>\n",
       "      <td>IYUNO</td>\n",
       "      <td>Netflix</td>\n",
       "      <td>3866.666667</td>\n",
       "      <td>3048000.0</td>\n",
       "      <td>2947417.0</td>\n",
       "      <td>10091998.0</td>\n",
       "    </tr>\n",
       "    <tr>\n",
       "      <th>8</th>\n",
       "      <td>IYUNO</td>\n",
       "      <td>BBC</td>\n",
       "      <td>2350.000000</td>\n",
       "      <td>2235000.0</td>\n",
       "      <td>2161245.0</td>\n",
       "      <td>10091998.0</td>\n",
       "    </tr>\n",
       "    <tr>\n",
       "      <th>14</th>\n",
       "      <td>IYUNO</td>\n",
       "      <td>NBCUniversal</td>\n",
       "      <td>4000.000000</td>\n",
       "      <td>552000.0</td>\n",
       "      <td>533784.0</td>\n",
       "      <td>10091998.0</td>\n",
       "    </tr>\n",
       "    <tr>\n",
       "      <th>10</th>\n",
       "      <td>IYUNO</td>\n",
       "      <td>Disney+</td>\n",
       "      <td>3800.000000</td>\n",
       "      <td>1220800.0</td>\n",
       "      <td>1180514.0</td>\n",
       "      <td>10091998.0</td>\n",
       "    </tr>\n",
       "    <tr>\n",
       "      <th>17</th>\n",
       "      <td>Barun Media</td>\n",
       "      <td>Udemy</td>\n",
       "      <td>5000.000000</td>\n",
       "      <td>465000.0</td>\n",
       "      <td>449655.0</td>\n",
       "      <td>3732622.0</td>\n",
       "    </tr>\n",
       "    <tr>\n",
       "      <th>13</th>\n",
       "      <td>Barun Media</td>\n",
       "      <td>Netflix</td>\n",
       "      <td>4000.000000</td>\n",
       "      <td>704000.0</td>\n",
       "      <td>680768.0</td>\n",
       "      <td>3732622.0</td>\n",
       "    </tr>\n",
       "    <tr>\n",
       "      <th>9</th>\n",
       "      <td>Barun Media</td>\n",
       "      <td>NGC</td>\n",
       "      <td>4428.571429</td>\n",
       "      <td>1395000.0</td>\n",
       "      <td>1348967.0</td>\n",
       "      <td>3732622.0</td>\n",
       "    </tr>\n",
       "    <tr>\n",
       "      <th>20</th>\n",
       "      <td>Barun Media</td>\n",
       "      <td>Disney+</td>\n",
       "      <td>4000.000000</td>\n",
       "      <td>264000.0</td>\n",
       "      <td>255288.0</td>\n",
       "      <td>3732622.0</td>\n",
       "    </tr>\n",
       "    <tr>\n",
       "      <th>21</th>\n",
       "      <td>Barun Media</td>\n",
       "      <td>YouTube</td>\n",
       "      <td>4000.000000</td>\n",
       "      <td>224000.0</td>\n",
       "      <td>216608.0</td>\n",
       "      <td>3732622.0</td>\n",
       "    </tr>\n",
       "    <tr>\n",
       "      <th>11</th>\n",
       "      <td>Barun Media</td>\n",
       "      <td>Love Nature</td>\n",
       "      <td>4250.000000</td>\n",
       "      <td>808000.0</td>\n",
       "      <td>781336.0</td>\n",
       "      <td>3732622.0</td>\n",
       "    </tr>\n",
       "    <tr>\n",
       "      <th>23</th>\n",
       "      <td>Sublime</td>\n",
       "      <td>FIFA</td>\n",
       "      <td>3150.000000</td>\n",
       "      <td>180000.0</td>\n",
       "      <td>174061.0</td>\n",
       "      <td>433410.0</td>\n",
       "    </tr>\n",
       "    <tr>\n",
       "      <th>19</th>\n",
       "      <td>Sublime</td>\n",
       "      <td>-</td>\n",
       "      <td>7200.000000</td>\n",
       "      <td>268200.0</td>\n",
       "      <td>259349.0</td>\n",
       "      <td>433410.0</td>\n",
       "    </tr>\n",
       "    <tr>\n",
       "      <th>22</th>\n",
       "      <td>Gloz_E</td>\n",
       "      <td>NBCUniversal</td>\n",
       "      <td>5000.000000</td>\n",
       "      <td>220000.0</td>\n",
       "      <td>212740.0</td>\n",
       "      <td>241750.0</td>\n",
       "    </tr>\n",
       "    <tr>\n",
       "      <th>27</th>\n",
       "      <td>Gloz_E</td>\n",
       "      <td>Netflix</td>\n",
       "      <td>30000.000000</td>\n",
       "      <td>30000.0</td>\n",
       "      <td>29010.0</td>\n",
       "      <td>241750.0</td>\n",
       "    </tr>\n",
       "    <tr>\n",
       "      <th>25</th>\n",
       "      <td>CJOlive</td>\n",
       "      <td>Tving</td>\n",
       "      <td>15000.000000</td>\n",
       "      <td>120000.0</td>\n",
       "      <td>116040.0</td>\n",
       "      <td>116040.0</td>\n",
       "    </tr>\n",
       "    <tr>\n",
       "      <th>28</th>\n",
       "      <td>WhtSub</td>\n",
       "      <td>Disney+</td>\n",
       "      <td>6000.000000</td>\n",
       "      <td>24000.0</td>\n",
       "      <td>23208.0</td>\n",
       "      <td>23208.0</td>\n",
       "    </tr>\n",
       "  </tbody>\n",
       "</table>\n",
       "</div>"
      ],
      "text/plain": [
       "            발주처         방영 채널         단가 평균         번역료         수령액  \\\n",
       "0       WhatSub       Disney+   3161.133603  32271300.0  31206366.0   \n",
       "7       WhatSub       Coupang   2192.857143   2337700.0   2260555.0   \n",
       "26      WhatSub             ?   6000.000000     54000.0     52218.0   \n",
       "24      WhatSub           AXA   5000.000000    165000.0    159555.0   \n",
       "18      WhatSub      Wow Tech   4500.000000    279000.0    269794.0   \n",
       "16      WhatSub  NBCUniversal   1950.000000    469150.0    453668.0   \n",
       "12      WhatSub      Facebook   5000.000000    780000.0    754260.0   \n",
       "15      WhatSub          ESPN   5000.000000    510000.0    493170.0   \n",
       "29      WhatSub     Paramount   4500.000000     13500.0     13055.0   \n",
       "2       WhatSub       Netflix   3783.333333   6864800.0   6638265.0   \n",
       "3       WhatSub        Watcha   4700.000000   5696500.0   5508517.0   \n",
       "6       WhatSub         Naver   2900.000000   2772500.0   2681007.0   \n",
       "1          Gloz       Netflix   8983.572481  17529250.0  16950785.0   \n",
       "4         IYUNO       Coupang   3900.000000   3380600.0   3269038.0   \n",
       "5         IYUNO       Netflix   3866.666667   3048000.0   2947417.0   \n",
       "8         IYUNO           BBC   2350.000000   2235000.0   2161245.0   \n",
       "14        IYUNO  NBCUniversal   4000.000000    552000.0    533784.0   \n",
       "10        IYUNO       Disney+   3800.000000   1220800.0   1180514.0   \n",
       "17  Barun Media         Udemy   5000.000000    465000.0    449655.0   \n",
       "13  Barun Media       Netflix   4000.000000    704000.0    680768.0   \n",
       "9   Barun Media           NGC   4428.571429   1395000.0   1348967.0   \n",
       "20  Barun Media       Disney+   4000.000000    264000.0    255288.0   \n",
       "21  Barun Media       YouTube   4000.000000    224000.0    216608.0   \n",
       "11  Barun Media   Love Nature   4250.000000    808000.0    781336.0   \n",
       "23      Sublime          FIFA   3150.000000    180000.0    174061.0   \n",
       "19      Sublime             -   7200.000000    268200.0    259349.0   \n",
       "22       Gloz_E  NBCUniversal   5000.000000    220000.0    212740.0   \n",
       "27       Gloz_E       Netflix  30000.000000     30000.0     29010.0   \n",
       "25      CJOlive         Tving  15000.000000    120000.0    116040.0   \n",
       "28       WhtSub       Disney+   6000.000000     24000.0     23208.0   \n",
       "\n",
       "          총수령액  \n",
       "0   50490430.0  \n",
       "7   50490430.0  \n",
       "26  50490430.0  \n",
       "24  50490430.0  \n",
       "18  50490430.0  \n",
       "16  50490430.0  \n",
       "12  50490430.0  \n",
       "15  50490430.0  \n",
       "29  50490430.0  \n",
       "2   50490430.0  \n",
       "3   50490430.0  \n",
       "6   50490430.0  \n",
       "1   16950785.0  \n",
       "4   10091998.0  \n",
       "5   10091998.0  \n",
       "8   10091998.0  \n",
       "14  10091998.0  \n",
       "10  10091998.0  \n",
       "17   3732622.0  \n",
       "13   3732622.0  \n",
       "9    3732622.0  \n",
       "20   3732622.0  \n",
       "21   3732622.0  \n",
       "11   3732622.0  \n",
       "23    433410.0  \n",
       "19    433410.0  \n",
       "22    241750.0  \n",
       "27    241750.0  \n",
       "25    116040.0  \n",
       "28     23208.0  "
      ]
     },
     "execution_count": 23,
     "metadata": {},
     "output_type": "execute_result"
    }
   ],
   "source": [
    "df2 = summarise_by_v2(tdf, time_by='대금 수령일', period_by='All', group_by=[])\n",
    "df2 = summarise_by_v2(tdf, time_by='대금 수령일', period_by='All', group_by=['발주처'])\n",
    "df2 = summarise_by_v2(tdf, time_by='대금 수령일', period_by='All', group_by=['발주처', '방영 채널'])\n",
    "#df2 = summarise_by_v2(tdf, time_by='대금 수령일', period_by='M', group_by=[])\n",
    "tdf2 = df2.reset_index()\n",
    "tdf2 = tdf2.groupby(['발주처'])['수령액'].sum().reset_index()\n",
    "tdf2.columns = ['발주처', '총수령액']\n",
    "\n",
    "tdf3 = pd.merge(df2.reset_index(), tdf2, on='발주처', how='left')\n",
    "tdf3.sort_values(by='총수령액', ascending=False)"
   ]
  },
  {
   "cell_type": "code",
   "execution_count": 10,
   "metadata": {},
   "outputs": [
    {
     "data": {
      "text/plain": [
       "(82080243.0,\n",
       " 7272131.0,\n",
       " 0.19620643631856013,\n",
       " 2412677.0,\n",
       " 5682763.0,\n",
       " -0.5754394473251832,\n",
       " '2022-09',\n",
       " 6522851.0)"
      ]
     },
     "execution_count": 10,
     "metadata": {},
     "output_type": "execute_result"
    }
   ],
   "source": [
    "'#extract_metrics(tdf)"
   ]
  },
  {
   "cell_type": "code",
   "execution_count": 96,
   "metadata": {},
   "outputs": [],
   "source": [
    "def gen_chart(df, period_by, group_by):\n",
    "    df = df.reset_index()\n",
    "    #df = df.sort_values(by='수령액', ascending=True)\n",
    "    if   (group_by == []) & (period_by == 'All'):\n",
    "        return None\n",
    "    elif (len(group_by) == 1) & (period_by == 'All'):\n",
    "        y_var = group_by[0]\n",
    "        return px.bar(df, y=y_var, x=\"수령액\", title=f\"Total earned by {y_var}\", color_discrete_sequence=px.colors.qualitative.Antique, orientation='h')\n",
    "    elif (len(group_by) > 1) & (period_by == 'All'):\n",
    "        y_var = group_by[0]\n",
    "        color_var = group_by[1]\n",
    "        return px.bar(df, y=y_var, x=\"수령액\", color=color_var, title=f\"Total earned by {y_var} and {color_var}\", color_discrete_sequence=px.colors.qualitative.Antique, orientation='h')\n",
    "    elif (group_by == []) & (period_by != 'All'):\n",
    "         #return df\n",
    "        return px.bar(df, y='time', x=\"수령액\", title=f\"Timely earned\", color_discrete_sequence=px.colors.qualitative.Antique, orientation='h')\n",
    "    else: \n",
    "        color_var = group_by[0]\n",
    "        #cols = ['time', '수령액'] + [color_var]\n",
    "        #df = df[cols].sort_values(by='수령액', ascending=True)\n",
    "        fig = px.bar(df, y='time', x=\"수령액\", color=color_var, title=f\"Timely earned by {color_var}\", color_discrete_sequence=px.colors.qualitative.Antique, orientation='h')\n",
    "        return fig.update_layout(barmode='stack')"
   ]
  },
  {
   "cell_type": "code",
   "execution_count": 12,
   "metadata": {},
   "outputs": [
    {
     "data": {
      "application/vnd.plotly.v1+json": {
       "config": {
        "plotlyServerURL": "https://plot.ly"
       },
       "data": [
        {
         "alignmentgroup": "True",
         "hovertemplate": "x=%{x}<br>y=%{y}<extra></extra>",
         "legendgroup": "",
         "marker": {
          "color": "rgb(133, 92, 117)",
          "pattern": {
           "shape": ""
          }
         },
         "name": "",
         "offsetgroup": "",
         "orientation": "h",
         "showlegend": false,
         "textposition": "auto",
         "type": "bar",
         "width": 0.3,
         "x": [
          82080243
         ],
         "xaxis": "x",
         "y": [
          0
         ],
         "yaxis": "y"
        }
       ],
       "layout": {
        "barmode": "relative",
        "legend": {
         "tracegroupgap": 0
        },
        "template": {
         "data": {
          "bar": [
           {
            "error_x": {
             "color": "#2a3f5f"
            },
            "error_y": {
             "color": "#2a3f5f"
            },
            "marker": {
             "line": {
              "color": "#E5ECF6",
              "width": 0.5
             },
             "pattern": {
              "fillmode": "overlay",
              "size": 10,
              "solidity": 0.2
             }
            },
            "type": "bar"
           }
          ],
          "barpolar": [
           {
            "marker": {
             "line": {
              "color": "#E5ECF6",
              "width": 0.5
             },
             "pattern": {
              "fillmode": "overlay",
              "size": 10,
              "solidity": 0.2
             }
            },
            "type": "barpolar"
           }
          ],
          "carpet": [
           {
            "aaxis": {
             "endlinecolor": "#2a3f5f",
             "gridcolor": "white",
             "linecolor": "white",
             "minorgridcolor": "white",
             "startlinecolor": "#2a3f5f"
            },
            "baxis": {
             "endlinecolor": "#2a3f5f",
             "gridcolor": "white",
             "linecolor": "white",
             "minorgridcolor": "white",
             "startlinecolor": "#2a3f5f"
            },
            "type": "carpet"
           }
          ],
          "choropleth": [
           {
            "colorbar": {
             "outlinewidth": 0,
             "ticks": ""
            },
            "type": "choropleth"
           }
          ],
          "contour": [
           {
            "colorbar": {
             "outlinewidth": 0,
             "ticks": ""
            },
            "colorscale": [
             [
              0,
              "#0d0887"
             ],
             [
              0.1111111111111111,
              "#46039f"
             ],
             [
              0.2222222222222222,
              "#7201a8"
             ],
             [
              0.3333333333333333,
              "#9c179e"
             ],
             [
              0.4444444444444444,
              "#bd3786"
             ],
             [
              0.5555555555555556,
              "#d8576b"
             ],
             [
              0.6666666666666666,
              "#ed7953"
             ],
             [
              0.7777777777777778,
              "#fb9f3a"
             ],
             [
              0.8888888888888888,
              "#fdca26"
             ],
             [
              1,
              "#f0f921"
             ]
            ],
            "type": "contour"
           }
          ],
          "contourcarpet": [
           {
            "colorbar": {
             "outlinewidth": 0,
             "ticks": ""
            },
            "type": "contourcarpet"
           }
          ],
          "heatmap": [
           {
            "colorbar": {
             "outlinewidth": 0,
             "ticks": ""
            },
            "colorscale": [
             [
              0,
              "#0d0887"
             ],
             [
              0.1111111111111111,
              "#46039f"
             ],
             [
              0.2222222222222222,
              "#7201a8"
             ],
             [
              0.3333333333333333,
              "#9c179e"
             ],
             [
              0.4444444444444444,
              "#bd3786"
             ],
             [
              0.5555555555555556,
              "#d8576b"
             ],
             [
              0.6666666666666666,
              "#ed7953"
             ],
             [
              0.7777777777777778,
              "#fb9f3a"
             ],
             [
              0.8888888888888888,
              "#fdca26"
             ],
             [
              1,
              "#f0f921"
             ]
            ],
            "type": "heatmap"
           }
          ],
          "heatmapgl": [
           {
            "colorbar": {
             "outlinewidth": 0,
             "ticks": ""
            },
            "colorscale": [
             [
              0,
              "#0d0887"
             ],
             [
              0.1111111111111111,
              "#46039f"
             ],
             [
              0.2222222222222222,
              "#7201a8"
             ],
             [
              0.3333333333333333,
              "#9c179e"
             ],
             [
              0.4444444444444444,
              "#bd3786"
             ],
             [
              0.5555555555555556,
              "#d8576b"
             ],
             [
              0.6666666666666666,
              "#ed7953"
             ],
             [
              0.7777777777777778,
              "#fb9f3a"
             ],
             [
              0.8888888888888888,
              "#fdca26"
             ],
             [
              1,
              "#f0f921"
             ]
            ],
            "type": "heatmapgl"
           }
          ],
          "histogram": [
           {
            "marker": {
             "pattern": {
              "fillmode": "overlay",
              "size": 10,
              "solidity": 0.2
             }
            },
            "type": "histogram"
           }
          ],
          "histogram2d": [
           {
            "colorbar": {
             "outlinewidth": 0,
             "ticks": ""
            },
            "colorscale": [
             [
              0,
              "#0d0887"
             ],
             [
              0.1111111111111111,
              "#46039f"
             ],
             [
              0.2222222222222222,
              "#7201a8"
             ],
             [
              0.3333333333333333,
              "#9c179e"
             ],
             [
              0.4444444444444444,
              "#bd3786"
             ],
             [
              0.5555555555555556,
              "#d8576b"
             ],
             [
              0.6666666666666666,
              "#ed7953"
             ],
             [
              0.7777777777777778,
              "#fb9f3a"
             ],
             [
              0.8888888888888888,
              "#fdca26"
             ],
             [
              1,
              "#f0f921"
             ]
            ],
            "type": "histogram2d"
           }
          ],
          "histogram2dcontour": [
           {
            "colorbar": {
             "outlinewidth": 0,
             "ticks": ""
            },
            "colorscale": [
             [
              0,
              "#0d0887"
             ],
             [
              0.1111111111111111,
              "#46039f"
             ],
             [
              0.2222222222222222,
              "#7201a8"
             ],
             [
              0.3333333333333333,
              "#9c179e"
             ],
             [
              0.4444444444444444,
              "#bd3786"
             ],
             [
              0.5555555555555556,
              "#d8576b"
             ],
             [
              0.6666666666666666,
              "#ed7953"
             ],
             [
              0.7777777777777778,
              "#fb9f3a"
             ],
             [
              0.8888888888888888,
              "#fdca26"
             ],
             [
              1,
              "#f0f921"
             ]
            ],
            "type": "histogram2dcontour"
           }
          ],
          "mesh3d": [
           {
            "colorbar": {
             "outlinewidth": 0,
             "ticks": ""
            },
            "type": "mesh3d"
           }
          ],
          "parcoords": [
           {
            "line": {
             "colorbar": {
              "outlinewidth": 0,
              "ticks": ""
             }
            },
            "type": "parcoords"
           }
          ],
          "pie": [
           {
            "automargin": true,
            "type": "pie"
           }
          ],
          "scatter": [
           {
            "fillpattern": {
             "fillmode": "overlay",
             "size": 10,
             "solidity": 0.2
            },
            "type": "scatter"
           }
          ],
          "scatter3d": [
           {
            "line": {
             "colorbar": {
              "outlinewidth": 0,
              "ticks": ""
             }
            },
            "marker": {
             "colorbar": {
              "outlinewidth": 0,
              "ticks": ""
             }
            },
            "type": "scatter3d"
           }
          ],
          "scattercarpet": [
           {
            "marker": {
             "colorbar": {
              "outlinewidth": 0,
              "ticks": ""
             }
            },
            "type": "scattercarpet"
           }
          ],
          "scattergeo": [
           {
            "marker": {
             "colorbar": {
              "outlinewidth": 0,
              "ticks": ""
             }
            },
            "type": "scattergeo"
           }
          ],
          "scattergl": [
           {
            "marker": {
             "colorbar": {
              "outlinewidth": 0,
              "ticks": ""
             }
            },
            "type": "scattergl"
           }
          ],
          "scattermapbox": [
           {
            "marker": {
             "colorbar": {
              "outlinewidth": 0,
              "ticks": ""
             }
            },
            "type": "scattermapbox"
           }
          ],
          "scatterpolar": [
           {
            "marker": {
             "colorbar": {
              "outlinewidth": 0,
              "ticks": ""
             }
            },
            "type": "scatterpolar"
           }
          ],
          "scatterpolargl": [
           {
            "marker": {
             "colorbar": {
              "outlinewidth": 0,
              "ticks": ""
             }
            },
            "type": "scatterpolargl"
           }
          ],
          "scatterternary": [
           {
            "marker": {
             "colorbar": {
              "outlinewidth": 0,
              "ticks": ""
             }
            },
            "type": "scatterternary"
           }
          ],
          "surface": [
           {
            "colorbar": {
             "outlinewidth": 0,
             "ticks": ""
            },
            "colorscale": [
             [
              0,
              "#0d0887"
             ],
             [
              0.1111111111111111,
              "#46039f"
             ],
             [
              0.2222222222222222,
              "#7201a8"
             ],
             [
              0.3333333333333333,
              "#9c179e"
             ],
             [
              0.4444444444444444,
              "#bd3786"
             ],
             [
              0.5555555555555556,
              "#d8576b"
             ],
             [
              0.6666666666666666,
              "#ed7953"
             ],
             [
              0.7777777777777778,
              "#fb9f3a"
             ],
             [
              0.8888888888888888,
              "#fdca26"
             ],
             [
              1,
              "#f0f921"
             ]
            ],
            "type": "surface"
           }
          ],
          "table": [
           {
            "cells": {
             "fill": {
              "color": "#EBF0F8"
             },
             "line": {
              "color": "white"
             }
            },
            "header": {
             "fill": {
              "color": "#C8D4E3"
             },
             "line": {
              "color": "white"
             }
            },
            "type": "table"
           }
          ]
         },
         "layout": {
          "annotationdefaults": {
           "arrowcolor": "#2a3f5f",
           "arrowhead": 0,
           "arrowwidth": 1
          },
          "autotypenumbers": "strict",
          "coloraxis": {
           "colorbar": {
            "outlinewidth": 0,
            "ticks": ""
           }
          },
          "colorscale": {
           "diverging": [
            [
             0,
             "#8e0152"
            ],
            [
             0.1,
             "#c51b7d"
            ],
            [
             0.2,
             "#de77ae"
            ],
            [
             0.3,
             "#f1b6da"
            ],
            [
             0.4,
             "#fde0ef"
            ],
            [
             0.5,
             "#f7f7f7"
            ],
            [
             0.6,
             "#e6f5d0"
            ],
            [
             0.7,
             "#b8e186"
            ],
            [
             0.8,
             "#7fbc41"
            ],
            [
             0.9,
             "#4d9221"
            ],
            [
             1,
             "#276419"
            ]
           ],
           "sequential": [
            [
             0,
             "#0d0887"
            ],
            [
             0.1111111111111111,
             "#46039f"
            ],
            [
             0.2222222222222222,
             "#7201a8"
            ],
            [
             0.3333333333333333,
             "#9c179e"
            ],
            [
             0.4444444444444444,
             "#bd3786"
            ],
            [
             0.5555555555555556,
             "#d8576b"
            ],
            [
             0.6666666666666666,
             "#ed7953"
            ],
            [
             0.7777777777777778,
             "#fb9f3a"
            ],
            [
             0.8888888888888888,
             "#fdca26"
            ],
            [
             1,
             "#f0f921"
            ]
           ],
           "sequentialminus": [
            [
             0,
             "#0d0887"
            ],
            [
             0.1111111111111111,
             "#46039f"
            ],
            [
             0.2222222222222222,
             "#7201a8"
            ],
            [
             0.3333333333333333,
             "#9c179e"
            ],
            [
             0.4444444444444444,
             "#bd3786"
            ],
            [
             0.5555555555555556,
             "#d8576b"
            ],
            [
             0.6666666666666666,
             "#ed7953"
            ],
            [
             0.7777777777777778,
             "#fb9f3a"
            ],
            [
             0.8888888888888888,
             "#fdca26"
            ],
            [
             1,
             "#f0f921"
            ]
           ]
          },
          "colorway": [
           "#636efa",
           "#EF553B",
           "#00cc96",
           "#ab63fa",
           "#FFA15A",
           "#19d3f3",
           "#FF6692",
           "#B6E880",
           "#FF97FF",
           "#FECB52"
          ],
          "font": {
           "color": "#2a3f5f"
          },
          "geo": {
           "bgcolor": "white",
           "lakecolor": "white",
           "landcolor": "#E5ECF6",
           "showlakes": true,
           "showland": true,
           "subunitcolor": "white"
          },
          "hoverlabel": {
           "align": "left"
          },
          "hovermode": "closest",
          "mapbox": {
           "style": "light"
          },
          "paper_bgcolor": "white",
          "plot_bgcolor": "#E5ECF6",
          "polar": {
           "angularaxis": {
            "gridcolor": "white",
            "linecolor": "white",
            "ticks": ""
           },
           "bgcolor": "#E5ECF6",
           "radialaxis": {
            "gridcolor": "white",
            "linecolor": "white",
            "ticks": ""
           }
          },
          "scene": {
           "xaxis": {
            "backgroundcolor": "#E5ECF6",
            "gridcolor": "white",
            "gridwidth": 2,
            "linecolor": "white",
            "showbackground": true,
            "ticks": "",
            "zerolinecolor": "white"
           },
           "yaxis": {
            "backgroundcolor": "#E5ECF6",
            "gridcolor": "white",
            "gridwidth": 2,
            "linecolor": "white",
            "showbackground": true,
            "ticks": "",
            "zerolinecolor": "white"
           },
           "zaxis": {
            "backgroundcolor": "#E5ECF6",
            "gridcolor": "white",
            "gridwidth": 2,
            "linecolor": "white",
            "showbackground": true,
            "ticks": "",
            "zerolinecolor": "white"
           }
          },
          "shapedefaults": {
           "line": {
            "color": "#2a3f5f"
           }
          },
          "ternary": {
           "aaxis": {
            "gridcolor": "white",
            "linecolor": "white",
            "ticks": ""
           },
           "baxis": {
            "gridcolor": "white",
            "linecolor": "white",
            "ticks": ""
           },
           "bgcolor": "#E5ECF6",
           "caxis": {
            "gridcolor": "white",
            "linecolor": "white",
            "ticks": ""
           }
          },
          "title": {
           "x": 0.05
          },
          "xaxis": {
           "automargin": true,
           "gridcolor": "white",
           "linecolor": "white",
           "ticks": "",
           "title": {
            "standoff": 15
           },
           "zerolinecolor": "white",
           "zerolinewidth": 2
          },
          "yaxis": {
           "automargin": true,
           "gridcolor": "white",
           "linecolor": "white",
           "ticks": "",
           "title": {
            "standoff": 15
           },
           "zerolinecolor": "white",
           "zerolinewidth": 2
          }
         }
        },
        "title": {
         "text": "Total earned"
        },
        "xaxis": {
         "anchor": "y",
         "domain": [
          0,
          1
         ],
         "title": {
          "text": "x"
         }
        },
        "yaxis": {
         "anchor": "x",
         "domain": [
          0,
          1
         ],
         "showticklabels": false,
         "title": {
          "text": "y"
         },
         "visible": false
        }
       }
      }
     },
     "metadata": {},
     "output_type": "display_data"
    }
   ],
   "source": [
    "period_by, group_by = 'M', ['발주처', '작업 종류', '영상 종류']\n",
    "#period_by, group_by = 'Y', []\n",
    "period_by, group_by = 'All', []\n",
    "df2 = summarise_by_v2(tdf, time_by='대금 수령일', period_by=period_by, group_by=group_by)\n",
    "df2.reset_index()\n",
    "gen_chart(df2, period_by=period_by, group_by=group_by)"
   ]
  }
 ],
 "metadata": {
  "kernelspec": {
   "display_name": "Python 3.8.13 ('streamlit-cms')",
   "language": "python",
   "name": "python3"
  },
  "language_info": {
   "codemirror_mode": {
    "name": "ipython",
    "version": 3
   },
   "file_extension": ".py",
   "mimetype": "text/x-python",
   "name": "python",
   "nbconvert_exporter": "python",
   "pygments_lexer": "ipython3",
   "version": "3.8.13"
  },
  "orig_nbformat": 4,
  "vscode": {
   "interpreter": {
    "hash": "327a3ee6657a811fba2f83ae6b59d211e3a4ecef78a0e14286b5c38ddd26cd2e"
   }
  }
 },
 "nbformat": 4,
 "nbformat_minor": 2
}
